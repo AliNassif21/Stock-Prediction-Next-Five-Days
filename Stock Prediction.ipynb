{
 "cells": [
  {
   "cell_type": "code",
   "execution_count": 1,
   "id": "4334eb69-03b1-4091-93a1-56d7241cac42",
   "metadata": {},
   "outputs": [],
   "source": [
    "import pandas as pd\n",
    "import numpy as np\n",
    "import xgboost as xgb\n",
    "import random\n",
    "import seaborn as sns\n",
    "import pandas_datareader as web\n",
    "import yfinance as yf\n",
    "from sklearn.preprocessing import StandardScaler\n",
    "from keras.models import Sequential\n",
    "from keras.layers import Dense\n",
    "import plotly.express as px\n",
    "from datetime import datetime\n",
    "Time=datetime.now()\n",
    "Start=datetime.today().strftime(\"%H:%M:%S\")\n",
    "Start=datetime.strptime(Start,\"%H:%M:%S\")"
   ]
  },
  {
   "cell_type": "code",
   "execution_count": 60,
   "id": "d0a1f432-9d70-4cb6-8f1c-e31cd9afb6a4",
   "metadata": {
    "scrolled": true
   },
   "outputs": [
    {
     "name": "stdout",
     "output_type": "stream",
     "text": [
      "[*********************100%%**********************]  1 of 1 completed\n",
      "[*********************100%%**********************]  1 of 1 completed\n"
     ]
    }
   ],
   "source": [
    "start_date = datetime(2022, 9, 22,)\n",
    "day=12\n",
    "end_date=datetime(Time.year,Time.month,day,18)\n",
    "df = yf.download('NFLX',start_date,end_date)\n",
    "df_target=yf.download('NFLX',start_date,Time)"
   ]
  },
  {
   "cell_type": "code",
   "execution_count": 63,
   "id": "0f510f9d-bb2e-4884-bbb1-307981e4e750",
   "metadata": {},
   "outputs": [],
   "source": [
    "df_target.columns=df_target.columns.str.lower()"
   ]
  },
  {
   "cell_type": "code",
   "execution_count": 4,
   "id": "13a81ef4-e48b-4f98-b7a0-7c36eb7c7e28",
   "metadata": {},
   "outputs": [],
   "source": [
    "df.columns=df.columns.str.lower()\n",
    "df=df.round(2)\n"
   ]
  },
  {
   "cell_type": "code",
   "execution_count": 5,
   "id": "e84efbb5-0d1b-47a5-9ecc-d2acb34787e0",
   "metadata": {},
   "outputs": [],
   "source": [
    "df[\"Target\"]=df[\"close\"].shift(-1).ffill()\n",
    "np.random.seed(42)\n",
    "df[\"open_shift\"]=np.random.uniform(200,443,size=df.shape[0])\n",
    "df[\"high_shift\"]=np.random.uniform(300,485,size=df.shape[0])\n",
    "df[\"low_shift\"]=np.random.uniform(250,470,size=df.shape[0])\n",
    "df[\"volume_shift\"]=np.random.uniform(3.298,22128.300,size=df.shape[0])\n",
    "filt1=df.columns.isin([\"open\",\"Target\",\"high\",\"low\",\"close\",\"low_shift\",\"volume\",\"adj close\"])\n",
    "Predictors1=df.columns[~filt1]\n"
   ]
  },
  {
   "cell_type": "code",
   "execution_count": 6,
   "id": "d86d275c-853f-4ddd-a597-48bcdfdd35c5",
   "metadata": {},
   "outputs": [
    {
     "data": {
      "text/html": [
       "<div>\n",
       "<style scoped>\n",
       "    .dataframe tbody tr th:only-of-type {\n",
       "        vertical-align: middle;\n",
       "    }\n",
       "\n",
       "    .dataframe tbody tr th {\n",
       "        vertical-align: top;\n",
       "    }\n",
       "\n",
       "    .dataframe thead th {\n",
       "        text-align: right;\n",
       "    }\n",
       "</style>\n",
       "<table border=\"1\" class=\"dataframe\">\n",
       "  <thead>\n",
       "    <tr style=\"text-align: right;\">\n",
       "      <th></th>\n",
       "      <th>open</th>\n",
       "      <th>high</th>\n",
       "      <th>low</th>\n",
       "      <th>close</th>\n",
       "      <th>adj close</th>\n",
       "      <th>volume</th>\n",
       "      <th>Target</th>\n",
       "      <th>open_shift</th>\n",
       "      <th>high_shift</th>\n",
       "      <th>low_shift</th>\n",
       "      <th>volume_shift</th>\n",
       "    </tr>\n",
       "    <tr>\n",
       "      <th>Date</th>\n",
       "      <th></th>\n",
       "      <th></th>\n",
       "      <th></th>\n",
       "      <th></th>\n",
       "      <th></th>\n",
       "      <th></th>\n",
       "      <th></th>\n",
       "      <th></th>\n",
       "      <th></th>\n",
       "      <th></th>\n",
       "      <th></th>\n",
       "    </tr>\n",
       "  </thead>\n",
       "  <tbody>\n",
       "    <tr>\n",
       "      <th>2022-09-22</th>\n",
       "      <td>235.35</td>\n",
       "      <td>240.50</td>\n",
       "      <td>231.66</td>\n",
       "      <td>237.05</td>\n",
       "      <td>237.05</td>\n",
       "      <td>10018000</td>\n",
       "      <td>226.41</td>\n",
       "      <td>291.013249</td>\n",
       "      <td>428.947912</td>\n",
       "      <td>469.260104</td>\n",
       "      <td>15416.698872</td>\n",
       "    </tr>\n",
       "    <tr>\n",
       "      <th>2022-09-23</th>\n",
       "      <td>235.14</td>\n",
       "      <td>236.45</td>\n",
       "      <td>221.43</td>\n",
       "      <td>226.41</td>\n",
       "      <td>226.41</td>\n",
       "      <td>11207200</td>\n",
       "      <td>224.07</td>\n",
       "      <td>431.023576</td>\n",
       "      <td>429.959556</td>\n",
       "      <td>372.194975</td>\n",
       "      <td>20413.598654</td>\n",
       "    </tr>\n",
       "    <tr>\n",
       "      <th>2022-09-26</th>\n",
       "      <td>225.60</td>\n",
       "      <td>232.70</td>\n",
       "      <td>223.01</td>\n",
       "      <td>224.07</td>\n",
       "      <td>224.07</td>\n",
       "      <td>8234300</td>\n",
       "      <td>224.36</td>\n",
       "      <td>377.874528</td>\n",
       "      <td>366.505863</td>\n",
       "      <td>419.177231</td>\n",
       "      <td>15650.954199</td>\n",
       "    </tr>\n",
       "    <tr>\n",
       "      <th>2022-09-27</th>\n",
       "      <td>228.63</td>\n",
       "      <td>230.64</td>\n",
       "      <td>220.72</td>\n",
       "      <td>224.36</td>\n",
       "      <td>224.36</td>\n",
       "      <td>7762200</td>\n",
       "      <td>245.20</td>\n",
       "      <td>345.474012</td>\n",
       "      <td>354.314491</td>\n",
       "      <td>457.848461</td>\n",
       "      <td>3378.224630</td>\n",
       "    </tr>\n",
       "    <tr>\n",
       "      <th>2022-09-28</th>\n",
       "      <td>229.69</td>\n",
       "      <td>246.65</td>\n",
       "      <td>227.38</td>\n",
       "      <td>245.20</td>\n",
       "      <td>245.20</td>\n",
       "      <td>17579700</td>\n",
       "      <td>239.71</td>\n",
       "      <td>237.912530</td>\n",
       "      <td>449.731814</td>\n",
       "      <td>436.922426</td>\n",
       "      <td>12753.679121</td>\n",
       "    </tr>\n",
       "    <tr>\n",
       "      <th>...</th>\n",
       "      <td>...</td>\n",
       "      <td>...</td>\n",
       "      <td>...</td>\n",
       "      <td>...</td>\n",
       "      <td>...</td>\n",
       "      <td>...</td>\n",
       "      <td>...</td>\n",
       "      <td>...</td>\n",
       "      <td>...</td>\n",
       "      <td>...</td>\n",
       "      <td>...</td>\n",
       "    </tr>\n",
       "    <tr>\n",
       "      <th>2023-10-06</th>\n",
       "      <td>368.43</td>\n",
       "      <td>382.52</td>\n",
       "      <td>367.77</td>\n",
       "      <td>381.51</td>\n",
       "      <td>381.51</td>\n",
       "      <td>4773400</td>\n",
       "      <td>385.95</td>\n",
       "      <td>440.583086</td>\n",
       "      <td>350.580308</td>\n",
       "      <td>384.519932</td>\n",
       "      <td>13886.857629</td>\n",
       "    </tr>\n",
       "    <tr>\n",
       "      <th>2023-10-09</th>\n",
       "      <td>378.05</td>\n",
       "      <td>387.17</td>\n",
       "      <td>377.76</td>\n",
       "      <td>385.95</td>\n",
       "      <td>385.95</td>\n",
       "      <td>3299800</td>\n",
       "      <td>373.32</td>\n",
       "      <td>234.040416</td>\n",
       "      <td>310.429467</td>\n",
       "      <td>253.984240</td>\n",
       "      <td>19333.405899</td>\n",
       "    </tr>\n",
       "    <tr>\n",
       "      <th>2023-10-10</th>\n",
       "      <td>385.58</td>\n",
       "      <td>388.70</td>\n",
       "      <td>372.25</td>\n",
       "      <td>373.32</td>\n",
       "      <td>373.32</td>\n",
       "      <td>7288900</td>\n",
       "      <td>365.93</td>\n",
       "      <td>325.954106</td>\n",
       "      <td>459.973640</td>\n",
       "      <td>441.867260</td>\n",
       "      <td>21776.146724</td>\n",
       "    </tr>\n",
       "    <tr>\n",
       "      <th>2023-10-11</th>\n",
       "      <td>372.78</td>\n",
       "      <td>377.81</td>\n",
       "      <td>365.34</td>\n",
       "      <td>365.93</td>\n",
       "      <td>365.93</td>\n",
       "      <td>9151400</td>\n",
       "      <td>361.20</td>\n",
       "      <td>413.201656</td>\n",
       "      <td>450.386687</td>\n",
       "      <td>455.066022</td>\n",
       "      <td>17001.348818</td>\n",
       "    </tr>\n",
       "    <tr>\n",
       "      <th>2023-10-12</th>\n",
       "      <td>366.48</td>\n",
       "      <td>368.83</td>\n",
       "      <td>359.05</td>\n",
       "      <td>361.20</td>\n",
       "      <td>361.20</td>\n",
       "      <td>7160025</td>\n",
       "      <td>361.20</td>\n",
       "      <td>380.006774</td>\n",
       "      <td>484.947770</td>\n",
       "      <td>374.329300</td>\n",
       "      <td>9246.388891</td>\n",
       "    </tr>\n",
       "  </tbody>\n",
       "</table>\n",
       "<p>266 rows × 11 columns</p>\n",
       "</div>"
      ],
      "text/plain": [
       "              open    high     low   close  adj close    volume  Target  \\\n",
       "Date                                                                      \n",
       "2022-09-22  235.35  240.50  231.66  237.05     237.05  10018000  226.41   \n",
       "2022-09-23  235.14  236.45  221.43  226.41     226.41  11207200  224.07   \n",
       "2022-09-26  225.60  232.70  223.01  224.07     224.07   8234300  224.36   \n",
       "2022-09-27  228.63  230.64  220.72  224.36     224.36   7762200  245.20   \n",
       "2022-09-28  229.69  246.65  227.38  245.20     245.20  17579700  239.71   \n",
       "...            ...     ...     ...     ...        ...       ...     ...   \n",
       "2023-10-06  368.43  382.52  367.77  381.51     381.51   4773400  385.95   \n",
       "2023-10-09  378.05  387.17  377.76  385.95     385.95   3299800  373.32   \n",
       "2023-10-10  385.58  388.70  372.25  373.32     373.32   7288900  365.93   \n",
       "2023-10-11  372.78  377.81  365.34  365.93     365.93   9151400  361.20   \n",
       "2023-10-12  366.48  368.83  359.05  361.20     361.20   7160025  361.20   \n",
       "\n",
       "            open_shift  high_shift   low_shift  volume_shift  \n",
       "Date                                                          \n",
       "2022-09-22  291.013249  428.947912  469.260104  15416.698872  \n",
       "2022-09-23  431.023576  429.959556  372.194975  20413.598654  \n",
       "2022-09-26  377.874528  366.505863  419.177231  15650.954199  \n",
       "2022-09-27  345.474012  354.314491  457.848461   3378.224630  \n",
       "2022-09-28  237.912530  449.731814  436.922426  12753.679121  \n",
       "...                ...         ...         ...           ...  \n",
       "2023-10-06  440.583086  350.580308  384.519932  13886.857629  \n",
       "2023-10-09  234.040416  310.429467  253.984240  19333.405899  \n",
       "2023-10-10  325.954106  459.973640  441.867260  21776.146724  \n",
       "2023-10-11  413.201656  450.386687  455.066022  17001.348818  \n",
       "2023-10-12  380.006774  484.947770  374.329300   9246.388891  \n",
       "\n",
       "[266 rows x 11 columns]"
      ]
     },
     "execution_count": 6,
     "metadata": {},
     "output_type": "execute_result"
    }
   ],
   "source": [
    "df"
   ]
  },
  {
   "cell_type": "code",
   "execution_count": 7,
   "id": "c51c57f6-3365-477b-90c9-479404be5cb9",
   "metadata": {},
   "outputs": [],
   "source": [
    "null_pct=df.apply(pd.isna).sum()/df.shape[0]"
   ]
  },
  {
   "cell_type": "code",
   "execution_count": null,
   "id": "cece5311-9eb5-4d9b-bed6-6c1cc3897b67",
   "metadata": {},
   "outputs": [],
   "source": []
  },
  {
   "cell_type": "code",
   "execution_count": null,
   "id": "be6ed6c7-2a42-470c-8751-5af5d7df8c7a",
   "metadata": {},
   "outputs": [],
   "source": []
  },
  {
   "cell_type": "code",
   "execution_count": 9,
   "id": "a860eec2-7803-4e7c-903a-ab3e0a0a61ec",
   "metadata": {},
   "outputs": [],
   "source": [
    "from sklearn.linear_model import LinearRegression\n",
    "from sklearn.linear_model import Ridge\n",
    "from sklearn.metrics import r2_score,mean_absolute_error\n",
    "from sklearn.linear_model import LogisticRegression\n",
    "from imblearn.over_sampling import RandomOverSampler\n",
    "filt=df.columns.isin([\"Target\",\"adj close\",\"high\",\"close\",\"low\",\"open_shift\",\"low_shift\",\"high_shift\",\"volume_shift\"])\n",
    "predictors=df.columns[~filt]\n",
    "lg=LogisticRegression()\n",
    "R=LinearRegression()\n",
    "reg=xgb.XGBRegressor(n_estimators=1000,early_stopping_rounds=50)\n",
    "r=Ridge(alpha=1.0)\n",
    "scaler=StandardScaler()\n",
    "S=Sequential()\n",
    "X=df[predictors]\n",
    "y=df[\"Target\"]\n",
    "ros=RandomOverSampler()"
   ]
  },
  {
   "cell_type": "code",
   "execution_count": 10,
   "id": "c7b9cd16-0103-4be7-8861-d124a03477c1",
   "metadata": {},
   "outputs": [],
   "source": [
    "def backtest(data,model,predictors,oversample=False,start=100,step=90):\n",
    "    all_predictors=[]\n",
    "    for i in range(start,data.shape[0],step):\n",
    "        train=data.iloc[:i]\n",
    "        test=data.iloc[i:i+step]\n",
    "        X_train=train[predictors]\n",
    "        y_train=train[\"Target\"]\n",
    "        X_test=test[predictors]\n",
    "        y_test=test[\"Target\"]\n",
    "        model.fit(X_train,y_train)\n",
    "        preds=model.predict(X_test)\n",
    "        preds=pd.Series(preds,index=test.index)\n",
    "        Combined=pd.DataFrame(dict(Actual=y_test,Predicted=preds))\n",
    "        Combined[\"Diff\"]=(Combined[\"Actual\"]-Combined[\"Predicted\"]).abs()\n",
    "        all_predictors.append(Combined)       \n",
    "    return pd.concat(all_predictors)\n",
    "    \n",
    "def forecast_next_days(data, model,predictors,oversample=False,step=5, num_days=5):\n",
    "    last_train = data.iloc[-step:]\n",
    "    #last_train_f = last_train.filter([\"Target\"])\n",
    "    #last_train1 = scaler.fit_transform(last_train_f)\n",
    "    next_days = pd.date_range(\n",
    "        start=last_train.index[-1] + pd.Timedelta(days=1),\n",
    "        periods=num_days\n",
    "    )\n",
    "    X_train=last_train[predictors]\n",
    "    y_train=last_train[\"Target\"]\n",
    "    G = np.random.uniform(370, 390, size=num_days)\n",
    "    sample_rows = pd.Series(G)\n",
    "    model.fit(X_train,y_train)\n",
    "    next_preds = model.predict(last_train[predictors][:num_days])\n",
    "    next_preds=pd.Series(next_preds,index=next_days)\n",
    "    #next_preds = model.predict(last_train_f[:num_days])\n",
    "    #next_preds = scaler.inverse_transform(next_preds)\n",
    "    next_diff = np.abs(sample_rows.values - next_preds.values)\n",
    "\n",
    "    next_preds_df = pd.DataFrame({\n",
    "        \"Actual\": sample_rows.values,\n",
    "        \"Predicted\": next_preds.values,\n",
    "        \"Diff\": next_diff\n",
    "    }, index=next_days)\n",
    "\n",
    "    return next_preds_df\n"
   ]
  },
  {
   "cell_type": "code",
   "execution_count": 11,
   "id": "1e44c4fd-0942-44e0-aa0f-20ad7b7841db",
   "metadata": {},
   "outputs": [],
   "source": [
    "Combined= backtest(df,R, predictors)\n",
    "\n",
    "Combined5=forecast_next_days(df,R,Predictors1)\n"
   ]
  },
  {
   "cell_type": "code",
   "execution_count": 12,
   "id": "d6cea674-e6e8-423f-8b0b-31e169f9c410",
   "metadata": {},
   "outputs": [
    {
     "data": {
      "text/html": [
       "<div>\n",
       "<style scoped>\n",
       "    .dataframe tbody tr th:only-of-type {\n",
       "        vertical-align: middle;\n",
       "    }\n",
       "\n",
       "    .dataframe tbody tr th {\n",
       "        vertical-align: top;\n",
       "    }\n",
       "\n",
       "    .dataframe thead th {\n",
       "        text-align: right;\n",
       "    }\n",
       "</style>\n",
       "<table border=\"1\" class=\"dataframe\">\n",
       "  <thead>\n",
       "    <tr style=\"text-align: right;\">\n",
       "      <th></th>\n",
       "      <th>open</th>\n",
       "      <th>high</th>\n",
       "      <th>low</th>\n",
       "      <th>close</th>\n",
       "      <th>adj close</th>\n",
       "      <th>volume</th>\n",
       "      <th>Target</th>\n",
       "      <th>open_shift</th>\n",
       "      <th>high_shift</th>\n",
       "      <th>low_shift</th>\n",
       "      <th>volume_shift</th>\n",
       "    </tr>\n",
       "    <tr>\n",
       "      <th>Date</th>\n",
       "      <th></th>\n",
       "      <th></th>\n",
       "      <th></th>\n",
       "      <th></th>\n",
       "      <th></th>\n",
       "      <th></th>\n",
       "      <th></th>\n",
       "      <th></th>\n",
       "      <th></th>\n",
       "      <th></th>\n",
       "      <th></th>\n",
       "    </tr>\n",
       "  </thead>\n",
       "  <tbody>\n",
       "    <tr>\n",
       "      <th>2022-09-22</th>\n",
       "      <td>235.35</td>\n",
       "      <td>240.50</td>\n",
       "      <td>231.66</td>\n",
       "      <td>237.05</td>\n",
       "      <td>237.05</td>\n",
       "      <td>10018000</td>\n",
       "      <td>226.41</td>\n",
       "      <td>291.013249</td>\n",
       "      <td>428.947912</td>\n",
       "      <td>469.260104</td>\n",
       "      <td>15416.698872</td>\n",
       "    </tr>\n",
       "    <tr>\n",
       "      <th>2022-09-23</th>\n",
       "      <td>235.14</td>\n",
       "      <td>236.45</td>\n",
       "      <td>221.43</td>\n",
       "      <td>226.41</td>\n",
       "      <td>226.41</td>\n",
       "      <td>11207200</td>\n",
       "      <td>224.07</td>\n",
       "      <td>431.023576</td>\n",
       "      <td>429.959556</td>\n",
       "      <td>372.194975</td>\n",
       "      <td>20413.598654</td>\n",
       "    </tr>\n",
       "    <tr>\n",
       "      <th>2022-09-26</th>\n",
       "      <td>225.60</td>\n",
       "      <td>232.70</td>\n",
       "      <td>223.01</td>\n",
       "      <td>224.07</td>\n",
       "      <td>224.07</td>\n",
       "      <td>8234300</td>\n",
       "      <td>224.36</td>\n",
       "      <td>377.874528</td>\n",
       "      <td>366.505863</td>\n",
       "      <td>419.177231</td>\n",
       "      <td>15650.954199</td>\n",
       "    </tr>\n",
       "    <tr>\n",
       "      <th>2022-09-27</th>\n",
       "      <td>228.63</td>\n",
       "      <td>230.64</td>\n",
       "      <td>220.72</td>\n",
       "      <td>224.36</td>\n",
       "      <td>224.36</td>\n",
       "      <td>7762200</td>\n",
       "      <td>245.20</td>\n",
       "      <td>345.474012</td>\n",
       "      <td>354.314491</td>\n",
       "      <td>457.848461</td>\n",
       "      <td>3378.224630</td>\n",
       "    </tr>\n",
       "    <tr>\n",
       "      <th>2022-09-28</th>\n",
       "      <td>229.69</td>\n",
       "      <td>246.65</td>\n",
       "      <td>227.38</td>\n",
       "      <td>245.20</td>\n",
       "      <td>245.20</td>\n",
       "      <td>17579700</td>\n",
       "      <td>239.71</td>\n",
       "      <td>237.912530</td>\n",
       "      <td>449.731814</td>\n",
       "      <td>436.922426</td>\n",
       "      <td>12753.679121</td>\n",
       "    </tr>\n",
       "    <tr>\n",
       "      <th>...</th>\n",
       "      <td>...</td>\n",
       "      <td>...</td>\n",
       "      <td>...</td>\n",
       "      <td>...</td>\n",
       "      <td>...</td>\n",
       "      <td>...</td>\n",
       "      <td>...</td>\n",
       "      <td>...</td>\n",
       "      <td>...</td>\n",
       "      <td>...</td>\n",
       "      <td>...</td>\n",
       "    </tr>\n",
       "    <tr>\n",
       "      <th>2023-10-06</th>\n",
       "      <td>368.43</td>\n",
       "      <td>382.52</td>\n",
       "      <td>367.77</td>\n",
       "      <td>381.51</td>\n",
       "      <td>381.51</td>\n",
       "      <td>4773400</td>\n",
       "      <td>385.95</td>\n",
       "      <td>440.583086</td>\n",
       "      <td>350.580308</td>\n",
       "      <td>384.519932</td>\n",
       "      <td>13886.857629</td>\n",
       "    </tr>\n",
       "    <tr>\n",
       "      <th>2023-10-09</th>\n",
       "      <td>378.05</td>\n",
       "      <td>387.17</td>\n",
       "      <td>377.76</td>\n",
       "      <td>385.95</td>\n",
       "      <td>385.95</td>\n",
       "      <td>3299800</td>\n",
       "      <td>373.32</td>\n",
       "      <td>234.040416</td>\n",
       "      <td>310.429467</td>\n",
       "      <td>253.984240</td>\n",
       "      <td>19333.405899</td>\n",
       "    </tr>\n",
       "    <tr>\n",
       "      <th>2023-10-10</th>\n",
       "      <td>385.58</td>\n",
       "      <td>388.70</td>\n",
       "      <td>372.25</td>\n",
       "      <td>373.32</td>\n",
       "      <td>373.32</td>\n",
       "      <td>7288900</td>\n",
       "      <td>365.93</td>\n",
       "      <td>325.954106</td>\n",
       "      <td>459.973640</td>\n",
       "      <td>441.867260</td>\n",
       "      <td>21776.146724</td>\n",
       "    </tr>\n",
       "    <tr>\n",
       "      <th>2023-10-11</th>\n",
       "      <td>372.78</td>\n",
       "      <td>377.81</td>\n",
       "      <td>365.34</td>\n",
       "      <td>365.93</td>\n",
       "      <td>365.93</td>\n",
       "      <td>9151400</td>\n",
       "      <td>361.20</td>\n",
       "      <td>413.201656</td>\n",
       "      <td>450.386687</td>\n",
       "      <td>455.066022</td>\n",
       "      <td>17001.348818</td>\n",
       "    </tr>\n",
       "    <tr>\n",
       "      <th>2023-10-12</th>\n",
       "      <td>366.48</td>\n",
       "      <td>368.83</td>\n",
       "      <td>359.05</td>\n",
       "      <td>361.20</td>\n",
       "      <td>361.20</td>\n",
       "      <td>7160025</td>\n",
       "      <td>361.20</td>\n",
       "      <td>380.006774</td>\n",
       "      <td>484.947770</td>\n",
       "      <td>374.329300</td>\n",
       "      <td>9246.388891</td>\n",
       "    </tr>\n",
       "  </tbody>\n",
       "</table>\n",
       "<p>266 rows × 11 columns</p>\n",
       "</div>"
      ],
      "text/plain": [
       "              open    high     low   close  adj close    volume  Target  \\\n",
       "Date                                                                      \n",
       "2022-09-22  235.35  240.50  231.66  237.05     237.05  10018000  226.41   \n",
       "2022-09-23  235.14  236.45  221.43  226.41     226.41  11207200  224.07   \n",
       "2022-09-26  225.60  232.70  223.01  224.07     224.07   8234300  224.36   \n",
       "2022-09-27  228.63  230.64  220.72  224.36     224.36   7762200  245.20   \n",
       "2022-09-28  229.69  246.65  227.38  245.20     245.20  17579700  239.71   \n",
       "...            ...     ...     ...     ...        ...       ...     ...   \n",
       "2023-10-06  368.43  382.52  367.77  381.51     381.51   4773400  385.95   \n",
       "2023-10-09  378.05  387.17  377.76  385.95     385.95   3299800  373.32   \n",
       "2023-10-10  385.58  388.70  372.25  373.32     373.32   7288900  365.93   \n",
       "2023-10-11  372.78  377.81  365.34  365.93     365.93   9151400  361.20   \n",
       "2023-10-12  366.48  368.83  359.05  361.20     361.20   7160025  361.20   \n",
       "\n",
       "            open_shift  high_shift   low_shift  volume_shift  \n",
       "Date                                                          \n",
       "2022-09-22  291.013249  428.947912  469.260104  15416.698872  \n",
       "2022-09-23  431.023576  429.959556  372.194975  20413.598654  \n",
       "2022-09-26  377.874528  366.505863  419.177231  15650.954199  \n",
       "2022-09-27  345.474012  354.314491  457.848461   3378.224630  \n",
       "2022-09-28  237.912530  449.731814  436.922426  12753.679121  \n",
       "...                ...         ...         ...           ...  \n",
       "2023-10-06  440.583086  350.580308  384.519932  13886.857629  \n",
       "2023-10-09  234.040416  310.429467  253.984240  19333.405899  \n",
       "2023-10-10  325.954106  459.973640  441.867260  21776.146724  \n",
       "2023-10-11  413.201656  450.386687  455.066022  17001.348818  \n",
       "2023-10-12  380.006774  484.947770  374.329300   9246.388891  \n",
       "\n",
       "[266 rows x 11 columns]"
      ]
     },
     "execution_count": 12,
     "metadata": {},
     "output_type": "execute_result"
    }
   ],
   "source": [
    "df"
   ]
  },
  {
   "cell_type": "code",
   "execution_count": 13,
   "id": "ae786a31-b120-48e3-a65d-858ef2b68b72",
   "metadata": {},
   "outputs": [],
   "source": [
    "acc=r2_score(Combined[\"Actual\"],Combined[\"Predicted\"])"
   ]
  },
  {
   "cell_type": "code",
   "execution_count": 14,
   "id": "90f26dfd-edc2-43f3-8a48-cf95eb913139",
   "metadata": {},
   "outputs": [
    {
     "name": "stderr",
     "output_type": "stream",
     "text": [
      "C:\\Users\\nbana\\OneDrive\\Desktop\\test\\Lib\\site-packages\\seaborn\\axisgrid.py:118: UserWarning: The figure layout has changed to tight\n",
      "  self._figure.tight_layout(*args, **kwargs)\n"
     ]
    },
    {
     "data": {
      "text/plain": [
       "<seaborn.axisgrid.PairGrid at 0x2a514312090>"
      ]
     },
     "execution_count": 14,
     "metadata": {},
     "output_type": "execute_result"
    },
    {
     "data": {
      "image/png": "[encoded data removed]",
      "text/plain": [
       "<Figure size 600x600 with 12 Axes>"
      ]
     },
     "metadata": {},
     "output_type": "display_data"
    }
   ],
   "source": [
    "sns.pairplot(Combined, diag_kind='hist', height=2)"
   ]
  },
  {
   "cell_type": "code",
   "execution_count": 15,
   "id": "8d1d6f3d-6fb7-44b9-adb2-769cbaaff37a",
   "metadata": {},
   "outputs": [
    {
     "data": {
      "text/html": [
       "<table class=\"simpletable\">\n",
       "<caption>OLS Regression Results</caption>\n",
       "<tr>\n",
       "  <th>Dep. Variable:</th>         <td>Target</td>      <th>  R-squared:         </th> <td>   0.966</td> \n",
       "</tr>\n",
       "<tr>\n",
       "  <th>Model:</th>                   <td>OLS</td>       <th>  Adj. R-squared:    </th> <td>   0.965</td> \n",
       "</tr>\n",
       "<tr>\n",
       "  <th>Method:</th>             <td>Least Squares</td>  <th>  F-statistic:       </th> <td>   3684.</td> \n",
       "</tr>\n",
       "<tr>\n",
       "  <th>Date:</th>             <td>Fri, 13 Oct 2023</td> <th>  Prob (F-statistic):</th> <td>4.56e-193</td>\n",
       "</tr>\n",
       "<tr>\n",
       "  <th>Time:</th>                 <td>02:12:29</td>     <th>  Log-Likelihood:    </th> <td> -1025.0</td> \n",
       "</tr>\n",
       "<tr>\n",
       "  <th>No. Observations:</th>      <td>   266</td>      <th>  AIC:               </th> <td>   2056.</td> \n",
       "</tr>\n",
       "<tr>\n",
       "  <th>Df Residuals:</th>          <td>   263</td>      <th>  BIC:               </th> <td>   2067.</td> \n",
       "</tr>\n",
       "<tr>\n",
       "  <th>Df Model:</th>              <td>     2</td>      <th>                     </th>     <td> </td>    \n",
       "</tr>\n",
       "<tr>\n",
       "  <th>Covariance Type:</th>      <td>nonrobust</td>    <th>                     </th>     <td> </td>    \n",
       "</tr>\n",
       "</table>\n",
       "<table class=\"simpletable\">\n",
       "<tr>\n",
       "     <td></td>       <th>coef</th>     <th>std err</th>      <th>t</th>      <th>P>|t|</th>  <th>[0.025</th>    <th>0.975]</th>  \n",
       "</tr>\n",
       "<tr>\n",
       "  <th>const</th>  <td>    5.5681</td> <td>    4.831</td> <td>    1.153</td> <td> 0.250</td> <td>   -3.945</td> <td>   15.081</td>\n",
       "</tr>\n",
       "<tr>\n",
       "  <th>open</th>   <td>    0.9809</td> <td>    0.012</td> <td>   80.833</td> <td> 0.000</td> <td>    0.957</td> <td>    1.005</td>\n",
       "</tr>\n",
       "<tr>\n",
       "  <th>volume</th> <td> 2.236e-07</td> <td> 1.48e-07</td> <td>    1.509</td> <td> 0.133</td> <td>-6.82e-08</td> <td> 5.15e-07</td>\n",
       "</tr>\n",
       "</table>\n",
       "<table class=\"simpletable\">\n",
       "<tr>\n",
       "  <th>Omnibus:</th>       <td> 6.246</td> <th>  Durbin-Watson:     </th> <td>   1.133</td>\n",
       "</tr>\n",
       "<tr>\n",
       "  <th>Prob(Omnibus):</th> <td> 0.044</td> <th>  Jarque-Bera (JB):  </th> <td>   9.229</td>\n",
       "</tr>\n",
       "<tr>\n",
       "  <th>Skew:</th>          <td> 0.082</td> <th>  Prob(JB):          </th> <td> 0.00991</td>\n",
       "</tr>\n",
       "<tr>\n",
       "  <th>Kurtosis:</th>      <td> 3.898</td> <th>  Cond. No.          </th> <td>6.52e+07</td>\n",
       "</tr>\n",
       "</table><br/><br/>Notes:<br/>[1] Standard Errors assume that the covariance matrix of the errors is correctly specified.<br/>[2] The condition number is large, 6.52e+07. This might indicate that there are<br/>strong multicollinearity or other numerical problems."
      ],
      "text/latex": [
       "\\begin{center}\n",
       "\\begin{tabular}{lclc}\n",
       "\\toprule\n",
       "\\textbf{Dep. Variable:}    &      Target      & \\textbf{  R-squared:         } &     0.966   \\\\\n",
       "\\textbf{Model:}            &       OLS        & \\textbf{  Adj. R-squared:    } &     0.965   \\\\\n",
       "\\textbf{Method:}           &  Least Squares   & \\textbf{  F-statistic:       } &     3684.   \\\\\n",
       "\\textbf{Date:}             & Fri, 13 Oct 2023 & \\textbf{  Prob (F-statistic):} & 4.56e-193   \\\\\n",
       "\\textbf{Time:}             &     02:12:29     & \\textbf{  Log-Likelihood:    } &   -1025.0   \\\\\n",
       "\\textbf{No. Observations:} &         266      & \\textbf{  AIC:               } &     2056.   \\\\\n",
       "\\textbf{Df Residuals:}     &         263      & \\textbf{  BIC:               } &     2067.   \\\\\n",
       "\\textbf{Df Model:}         &           2      & \\textbf{                     } &             \\\\\n",
       "\\textbf{Covariance Type:}  &    nonrobust     & \\textbf{                     } &             \\\\\n",
       "\\bottomrule\n",
       "\\end{tabular}\n",
       "\\begin{tabular}{lcccccc}\n",
       "                & \\textbf{coef} & \\textbf{std err} & \\textbf{t} & \\textbf{P$> |$t$|$} & \\textbf{[0.025} & \\textbf{0.975]}  \\\\\n",
       "\\midrule\n",
       "\\textbf{const}  &       5.5681  &        4.831     &     1.153  &         0.250        &       -3.945    &       15.081     \\\\\n",
       "\\textbf{open}   &       0.9809  &        0.012     &    80.833  &         0.000        &        0.957    &        1.005     \\\\\n",
       "\\textbf{volume} &    2.236e-07  &     1.48e-07     &     1.509  &         0.133        &    -6.82e-08    &     5.15e-07     \\\\\n",
       "\\bottomrule\n",
       "\\end{tabular}\n",
       "\\begin{tabular}{lclc}\n",
       "\\textbf{Omnibus:}       &  6.246 & \\textbf{  Durbin-Watson:     } &    1.133  \\\\\n",
       "\\textbf{Prob(Omnibus):} &  0.044 & \\textbf{  Jarque-Bera (JB):  } &    9.229  \\\\\n",
       "\\textbf{Skew:}          &  0.082 & \\textbf{  Prob(JB):          } &  0.00991  \\\\\n",
       "\\textbf{Kurtosis:}      &  3.898 & \\textbf{  Cond. No.          } & 6.52e+07  \\\\\n",
       "\\bottomrule\n",
       "\\end{tabular}\n",
       "%\\caption{OLS Regression Results}\n",
       "\\end{center}\n",
       "\n",
       "Notes: \\newline\n",
       " [1] Standard Errors assume that the covariance matrix of the errors is correctly specified. \\newline\n",
       " [2] The condition number is large, 6.52e+07. This might indicate that there are \\newline\n",
       " strong multicollinearity or other numerical problems."
      ],
      "text/plain": [
       "<class 'statsmodels.iolib.summary.Summary'>\n",
       "\"\"\"\n",
       "                            OLS Regression Results                            \n",
       "==============================================================================\n",
       "Dep. Variable:                 Target   R-squared:                       0.966\n",
       "Model:                            OLS   Adj. R-squared:                  0.965\n",
       "Method:                 Least Squares   F-statistic:                     3684.\n",
       "Date:                Fri, 13 Oct 2023   Prob (F-statistic):          4.56e-193\n",
       "Time:                        02:12:29   Log-Likelihood:                -1025.0\n",
       "No. Observations:                 266   AIC:                             2056.\n",
       "Df Residuals:                     263   BIC:                             2067.\n",
       "Df Model:                           2                                         \n",
       "Covariance Type:            nonrobust                                         \n",
       "==============================================================================\n",
       "                 coef    std err          t      P>|t|      [0.025      0.975]\n",
       "------------------------------------------------------------------------------\n",
       "const          5.5681      4.831      1.153      0.250      -3.945      15.081\n",
       "open           0.9809      0.012     80.833      0.000       0.957       1.005\n",
       "volume      2.236e-07   1.48e-07      1.509      0.133   -6.82e-08    5.15e-07\n",
       "==============================================================================\n",
       "Omnibus:                        6.246   Durbin-Watson:                   1.133\n",
       "Prob(Omnibus):                  0.044   Jarque-Bera (JB):                9.229\n",
       "Skew:                           0.082   Prob(JB):                      0.00991\n",
       "Kurtosis:                       3.898   Cond. No.                     6.52e+07\n",
       "==============================================================================\n",
       "\n",
       "Notes:\n",
       "[1] Standard Errors assume that the covariance matrix of the errors is correctly specified.\n",
       "[2] The condition number is large, 6.52e+07. This might indicate that there are\n",
       "strong multicollinearity or other numerical problems.\n",
       "\"\"\""
      ]
     },
     "execution_count": 15,
     "metadata": {},
     "output_type": "execute_result"
    }
   ],
   "source": [
    "import statsmodels.api as sm\n",
    "from statsmodels.stats.outliers_influence import variance_inflation_factor\n",
    "x=sm.add_constant(X)\n",
    "result=sm.OLS(y,x).fit()\n",
    "result.summary()"
   ]
  },
  {
   "cell_type": "code",
   "execution_count": null,
   "id": "06ccaafb-e2be-40df-b3b4-8287c6d76f8e",
   "metadata": {},
   "outputs": [],
   "source": []
  },
  {
   "cell_type": "code",
   "execution_count": null,
   "id": "c2a0e68e-3f0d-4785-8bfe-315e17b59182",
   "metadata": {},
   "outputs": [],
   "source": []
  },
  {
   "cell_type": "code",
   "execution_count": null,
   "id": "717f6ff9-cdd6-481a-968b-ea97b4b6f22c",
   "metadata": {},
   "outputs": [],
   "source": []
  },
  {
   "cell_type": "code",
   "execution_count": 16,
   "id": "5bf6b69a-ef59-4975-8ed8-bc8ea62b944f",
   "metadata": {},
   "outputs": [],
   "source": [
    "acc=r2_score(Combined[\"Actual\"],Combined[\"Predicted\"])"
   ]
  },
  {
   "cell_type": "code",
   "execution_count": 17,
   "id": "8ffd78d5-0432-407c-ae14-620d4dbe14e7",
   "metadata": {},
   "outputs": [],
   "source": [
    "\n",
    "current_date=datetime.now()\n",
    "DATE=current_date.strftime(\"%Y-%m-%d\")\n",
    "CombinedX = pd.concat([Combined, Combined5])\n",
    "U=CombinedX.loc[:f\"{DATE}\"]\n"
   ]
  },
  {
   "cell_type": "code",
   "execution_count": 69,
   "id": "3fe11b4e-ad54-45f3-984e-47166d25b338",
   "metadata": {},
   "outputs": [
    {
     "data": {
      "application/vnd.plotly.v1+json": {
       "config": {
        "plotlyServerURL": "https://plot.ly"
       },
       "data": [
        {
         "hovertemplate": "<extra></extra>",
         "legendgroup": "",
         "marker": {
          "color": "#636efa",
          "symbol": "circle"
         },
         "mode": "markers",
         "name": "",
         "orientation": "v",
         "showlegend": false,
         "type": "scatter",
         "xaxis": "x",
         "yaxis": "y"
        },
        {
         "marker": {
          "color": "blue",
          "size": 8
         },
         "mode": "lines+markers",
         "name": "Actual",
         "type": "scatter",
         "x": [
          "2023-09-01T00:00:00",
          "2023-09-05T00:00:00",
          "2023-09-06T00:00:00",
          "2023-09-07T00:00:00",
          "2023-09-08T00:00:00",
          "2023-09-11T00:00:00",
          "2023-09-12T00:00:00",
          "2023-09-13T00:00:00",
          "2023-09-14T00:00:00",
          "2023-09-15T00:00:00",
          "2023-09-18T00:00:00",
          "2023-09-19T00:00:00",
          "2023-09-20T00:00:00",
          "2023-09-21T00:00:00",
          "2023-09-22T00:00:00",
          "2023-09-25T00:00:00",
          "2023-09-26T00:00:00",
          "2023-09-27T00:00:00",
          "2023-09-28T00:00:00",
          "2023-09-29T00:00:00",
          "2023-10-02T00:00:00",
          "2023-10-03T00:00:00",
          "2023-10-04T00:00:00",
          "2023-10-05T00:00:00",
          "2023-10-06T00:00:00",
          "2023-10-09T00:00:00",
          "2023-10-10T00:00:00",
          "2023-10-11T00:00:00",
          "2023-10-12T00:00:00"
         ],
         "y": [
          439.8800048828125,
          448.67999267578125,
          445.760009765625,
          443.1400146484375,
          442.79998779296875,
          445.3599853515625,
          434.69000244140625,
          412.239990234375,
          400.489990234375,
          396.94000244140625,
          394.3999938964844,
          396.20001220703125,
          386.29998779296875,
          384.1499938964844,
          379.80999755859375,
          384.79998779296875,
          379.25,
          377.5899963378906,
          376.3599853515625,
          377.6000061035156,
          380.3299865722656,
          376.75,
          376.8999938964844,
          372.5899963378906,
          381.510009765625,
          385.95001220703125,
          373.32000732421875,
          365.92999267578125,
          361.20001220703125
         ]
        },
        {
         "line": {
          "color": "red",
          "width": 2
         },
         "marker": {
          "size": 5
         },
         "mode": "lines+markers",
         "name": "Predicted",
         "type": "scatter",
         "x": [
          "2023-09-01T00:00:00",
          "2023-09-05T00:00:00",
          "2023-09-06T00:00:00",
          "2023-09-07T00:00:00",
          "2023-09-08T00:00:00",
          "2023-09-11T00:00:00",
          "2023-09-12T00:00:00",
          "2023-09-13T00:00:00",
          "2023-09-14T00:00:00",
          "2023-09-15T00:00:00",
          "2023-09-18T00:00:00",
          "2023-09-19T00:00:00",
          "2023-09-20T00:00:00",
          "2023-09-21T00:00:00",
          "2023-09-22T00:00:00",
          "2023-09-25T00:00:00",
          "2023-09-26T00:00:00",
          "2023-09-27T00:00:00",
          "2023-09-28T00:00:00",
          "2023-09-29T00:00:00",
          "2023-10-02T00:00:00",
          "2023-10-03T00:00:00",
          "2023-10-04T00:00:00",
          "2023-10-05T00:00:00",
          "2023-10-06T00:00:00",
          "2023-10-09T00:00:00",
          "2023-10-10T00:00:00",
          "2023-10-11T00:00:00",
          "2023-10-12T00:00:00",
          "2023-10-13T00:00:00",
          "2023-10-14T00:00:00",
          "2023-10-15T00:00:00",
          "2023-10-16T00:00:00",
          "2023-10-17T00:00:00"
         ],
         "y": [
          436.72803133692537,
          438.07179087041993,
          447.09701578346693,
          439.1936638985939,
          441.48078586651525,
          441.1015847177295,
          440.98824481688814,
          438.0554290013915,
          412.48406463160205,
          402.31688196909954,
          394.6212050923658,
          391.65572530976056,
          395.7432714670412,
          386.0811950123952,
          383.6534994572101,
          381.5942734555748,
          381.74149161030846,
          381.1396352795922,
          374.63147805192284,
          378.927900010958,
          375.8659791491685,
          378.4043837959263,
          375.49459847715667,
          377.36656874404525,
          367.69293240597364,
          376.5332211775567,
          386.04104558537864,
          374.22906954946995,
          366.9517896276008,
          382.67756309789917,
          375.1365475868509,
          361.50213573908263,
          367.94950768730024,
          360.33424588886714
         ]
        }
       ],
       "layout": {
        "annotations": [
         {
          "align": "left",
          "font": {
           "size": 12
          },
          "showarrow": false,
          "text": "The prediction Accuracy is 94.36%",
          "x": 0.65,
          "xref": "paper",
          "y": 0.86,
          "yref": "paper"
         }
        ],
        "height": 800,
        "legend": {
         "tracegroupgap": 0,
         "x": 1,
         "y": 1
        },
        "template": {
         "data": {
          "bar": [
           {
            "error_x": {
             "color": "#2a3f5f"
            },
            "error_y": {
             "color": "#2a3f5f"
            },
            "marker": {
             "line": {
              "color": "#E5ECF6",
              "width": 0.5
             },
             "pattern": {
              "fillmode": "overlay",
              "size": 10,
              "solidity": 0.2
             }
            },
            "type": "bar"
           }
          ],
          "barpolar": [
           {
            "marker": {
             "line": {
              "color": "#E5ECF6",
              "width": 0.5
             },
             "pattern": {
              "fillmode": "overlay",
              "size": 10,
              "solidity": 0.2
             }
            },
            "type": "barpolar"
           }
          ],
          "carpet": [
           {
            "aaxis": {
             "endlinecolor": "#2a3f5f",
             "gridcolor": "white",
             "linecolor": "white",
             "minorgridcolor": "white",
             "startlinecolor": "#2a3f5f"
            },
            "baxis": {
             "endlinecolor": "#2a3f5f",
             "gridcolor": "white",
             "linecolor": "white",
             "minorgridcolor": "white",
             "startlinecolor": "#2a3f5f"
            },
            "type": "carpet"
           }
          ],
          "choropleth": [
           {
            "colorbar": {
             "outlinewidth": 0,
             "ticks": ""
            },
            "type": "choropleth"
           }
          ],
          "contour": [
           {
            "colorbar": {
             "outlinewidth": 0,
             "ticks": ""
            },
            "colorscale": [
             [
              0,
              "#0d0887"
             ],
             [
              0.1111111111111111,
              "#46039f"
             ],
             [
              0.2222222222222222,
              "#7201a8"
             ],
             [
              0.3333333333333333,
              "#9c179e"
             ],
             [
              0.4444444444444444,
              "#bd3786"
             ],
             [
              0.5555555555555556,
              "#d8576b"
             ],
             [
              0.6666666666666666,
              "#ed7953"
             ],
             [
              0.7777777777777778,
              "#fb9f3a"
             ],
             [
              0.8888888888888888,
              "#fdca26"
             ],
             [
              1,
              "#f0f921"
             ]
            ],
            "type": "contour"
           }
          ],
          "contourcarpet": [
           {
            "colorbar": {
             "outlinewidth": 0,
             "ticks": ""
            },
            "type": "contourcarpet"
           }
          ],
          "heatmap": [
           {
            "colorbar": {
             "outlinewidth": 0,
             "ticks": ""
            },
            "colorscale": [
             [
              0,
              "#0d0887"
             ],
             [
              0.1111111111111111,
              "#46039f"
             ],
             [
              0.2222222222222222,
              "#7201a8"
             ],
             [
              0.3333333333333333,
              "#9c179e"
             ],
             [
              0.4444444444444444,
              "#bd3786"
             ],
             [
              0.5555555555555556,
              "#d8576b"
             ],
             [
              0.6666666666666666,
              "#ed7953"
             ],
             [
              0.7777777777777778,
              "#fb9f3a"
             ],
             [
              0.8888888888888888,
              "#fdca26"
             ],
             [
              1,
              "#f0f921"
             ]
            ],
            "type": "heatmap"
           }
          ],
          "heatmapgl": [
           {
            "colorbar": {
             "outlinewidth": 0,
             "ticks": ""
            },
            "colorscale": [
             [
              0,
              "#0d0887"
             ],
             [
              0.1111111111111111,
              "#46039f"
             ],
             [
              0.2222222222222222,
              "#7201a8"
             ],
             [
              0.3333333333333333,
              "#9c179e"
             ],
             [
              0.4444444444444444,
              "#bd3786"
             ],
             [
              0.5555555555555556,
              "#d8576b"
             ],
             [
              0.6666666666666666,
              "#ed7953"
             ],
             [
              0.7777777777777778,
              "#fb9f3a"
             ],
             [
              0.8888888888888888,
              "#fdca26"
             ],
             [
              1,
              "#f0f921"
             ]
            ],
            "type": "heatmapgl"
           }
          ],
          "histogram": [
           {
            "marker": {
             "pattern": {
              "fillmode": "overlay",
              "size": 10,
              "solidity": 0.2
             }
            },
            "type": "histogram"
           }
          ],
          "histogram2d": [
           {
            "colorbar": {
             "outlinewidth": 0,
             "ticks": ""
            },
            "colorscale": [
             [
              0,
              "#0d0887"
             ],
             [
              0.1111111111111111,
              "#46039f"
             ],
             [
              0.2222222222222222,
              "#7201a8"
             ],
             [
              0.3333333333333333,
              "#9c179e"
             ],
             [
              0.4444444444444444,
              "#bd3786"
             ],
             [
              0.5555555555555556,
              "#d8576b"
             ],
             [
              0.6666666666666666,
              "#ed7953"
             ],
             [
              0.7777777777777778,
              "#fb9f3a"
             ],
             [
              0.8888888888888888,
              "#fdca26"
             ],
             [
              1,
              "#f0f921"
             ]
            ],
            "type": "histogram2d"
           }
          ],
          "histogram2dcontour": [
           {
            "colorbar": {
             "outlinewidth": 0,
             "ticks": ""
            },
            "colorscale": [
             [
              0,
              "#0d0887"
             ],
             [
              0.1111111111111111,
              "#46039f"
             ],
             [
              0.2222222222222222,
              "#7201a8"
             ],
             [
              0.3333333333333333,
              "#9c179e"
             ],
             [
              0.4444444444444444,
              "#bd3786"
             ],
             [
              0.5555555555555556,
              "#d8576b"
             ],
             [
              0.6666666666666666,
              "#ed7953"
             ],
             [
              0.7777777777777778,
              "#fb9f3a"
             ],
             [
              0.8888888888888888,
              "#fdca26"
             ],
             [
              1,
              "#f0f921"
             ]
            ],
            "type": "histogram2dcontour"
           }
          ],
          "mesh3d": [
           {
            "colorbar": {
             "outlinewidth": 0,
             "ticks": ""
            },
            "type": "mesh3d"
           }
          ],
          "parcoords": [
           {
            "line": {
             "colorbar": {
              "outlinewidth": 0,
              "ticks": ""
             }
            },
            "type": "parcoords"
           }
          ],
          "pie": [
           {
            "automargin": true,
            "type": "pie"
           }
          ],
          "scatter": [
           {
            "fillpattern": {
             "fillmode": "overlay",
             "size": 10,
             "solidity": 0.2
            },
            "type": "scatter"
           }
          ],
          "scatter3d": [
           {
            "line": {
             "colorbar": {
              "outlinewidth": 0,
              "ticks": ""
             }
            },
            "marker": {
             "colorbar": {
              "outlinewidth": 0,
              "ticks": ""
             }
            },
            "type": "scatter3d"
           }
          ],
          "scattercarpet": [
           {
            "marker": {
             "colorbar": {
              "outlinewidth": 0,
              "ticks": ""
             }
            },
            "type": "scattercarpet"
           }
          ],
          "scattergeo": [
           {
            "marker": {
             "colorbar": {
              "outlinewidth": 0,
              "ticks": ""
             }
            },
            "type": "scattergeo"
           }
          ],
          "scattergl": [
           {
            "marker": {
             "colorbar": {
              "outlinewidth": 0,
              "ticks": ""
             }
            },
            "type": "scattergl"
           }
          ],
          "scattermapbox": [
           {
            "marker": {
             "colorbar": {
              "outlinewidth": 0,
              "ticks": ""
             }
            },
            "type": "scattermapbox"
           }
          ],
          "scatterpolar": [
           {
            "marker": {
             "colorbar": {
              "outlinewidth": 0,
              "ticks": ""
             }
            },
            "type": "scatterpolar"
           }
          ],
          "scatterpolargl": [
           {
            "marker": {
             "colorbar": {
              "outlinewidth": 0,
              "ticks": ""
             }
            },
            "type": "scatterpolargl"
           }
          ],
          "scatterternary": [
           {
            "marker": {
             "colorbar": {
              "outlinewidth": 0,
              "ticks": ""
             }
            },
            "type": "scatterternary"
           }
          ],
          "surface": [
           {
            "colorbar": {
             "outlinewidth": 0,
             "ticks": ""
            },
            "colorscale": [
             [
              0,
              "#0d0887"
             ],
             [
              0.1111111111111111,
              "#46039f"
             ],
             [
              0.2222222222222222,
              "#7201a8"
             ],
             [
              0.3333333333333333,
              "#9c179e"
             ],
             [
              0.4444444444444444,
              "#bd3786"
             ],
             [
              0.5555555555555556,
              "#d8576b"
             ],
             [
              0.6666666666666666,
              "#ed7953"
             ],
             [
              0.7777777777777778,
              "#fb9f3a"
             ],
             [
              0.8888888888888888,
              "#fdca26"
             ],
             [
              1,
              "#f0f921"
             ]
            ],
            "type": "surface"
           }
          ],
          "table": [
           {
            "cells": {
             "fill": {
              "color": "#EBF0F8"
             },
             "line": {
              "color": "white"
             }
            },
            "header": {
             "fill": {
              "color": "#C8D4E3"
             },
             "line": {
              "color": "white"
             }
            },
            "type": "table"
           }
          ]
         },
         "layout": {
          "annotationdefaults": {
           "arrowcolor": "#2a3f5f",
           "arrowhead": 0,
           "arrowwidth": 1
          },
          "autotypenumbers": "strict",
          "coloraxis": {
           "colorbar": {
            "outlinewidth": 0,
            "ticks": ""
           }
          },
          "colorscale": {
           "diverging": [
            [
             0,
             "#8e0152"
            ],
            [
             0.1,
             "#c51b7d"
            ],
            [
             0.2,
             "#de77ae"
            ],
            [
             0.3,
             "#f1b6da"
            ],
            [
             0.4,
             "#fde0ef"
            ],
            [
             0.5,
             "#f7f7f7"
            ],
            [
             0.6,
             "#e6f5d0"
            ],
            [
             0.7,
             "#b8e186"
            ],
            [
             0.8,
             "#7fbc41"
            ],
            [
             0.9,
             "#4d9221"
            ],
            [
             1,
             "#276419"
            ]
           ],
           "sequential": [
            [
             0,
             "#0d0887"
            ],
            [
             0.1111111111111111,
             "#46039f"
            ],
            [
             0.2222222222222222,
             "#7201a8"
            ],
            [
             0.3333333333333333,
             "#9c179e"
            ],
            [
             0.4444444444444444,
             "#bd3786"
            ],
            [
             0.5555555555555556,
             "#d8576b"
            ],
            [
             0.6666666666666666,
             "#ed7953"
            ],
            [
             0.7777777777777778,
             "#fb9f3a"
            ],
            [
             0.8888888888888888,
             "#fdca26"
            ],
            [
             1,
             "#f0f921"
            ]
           ],
           "sequentialminus": [
            [
             0,
             "#0d0887"
            ],
            [
             0.1111111111111111,
             "#46039f"
            ],
            [
             0.2222222222222222,
             "#7201a8"
            ],
            [
             0.3333333333333333,
             "#9c179e"
            ],
            [
             0.4444444444444444,
             "#bd3786"
            ],
            [
             0.5555555555555556,
             "#d8576b"
            ],
            [
             0.6666666666666666,
             "#ed7953"
            ],
            [
             0.7777777777777778,
             "#fb9f3a"
            ],
            [
             0.8888888888888888,
             "#fdca26"
            ],
            [
             1,
             "#f0f921"
            ]
           ]
          },
          "colorway": [
           "#636efa",
           "#EF553B",
           "#00cc96",
           "#ab63fa",
           "#FFA15A",
           "#19d3f3",
           "#FF6692",
           "#B6E880",
           "#FF97FF",
           "#FECB52"
          ],
          "font": {
           "color": "#2a3f5f"
          },
          "geo": {
           "bgcolor": "white",
           "lakecolor": "white",
           "landcolor": "#E5ECF6",
           "showlakes": true,
           "showland": true,
           "subunitcolor": "white"
          },
          "hoverlabel": {
           "align": "left"
          },
          "hovermode": "closest",
          "mapbox": {
           "style": "light"
          },
          "paper_bgcolor": "white",
          "plot_bgcolor": "#E5ECF6",
          "polar": {
           "angularaxis": {
            "gridcolor": "white",
            "linecolor": "white",
            "ticks": ""
           },
           "bgcolor": "#E5ECF6",
           "radialaxis": {
            "gridcolor": "white",
            "linecolor": "white",
            "ticks": ""
           }
          },
          "scene": {
           "xaxis": {
            "backgroundcolor": "#E5ECF6",
            "gridcolor": "white",
            "gridwidth": 2,
            "linecolor": "white",
            "showbackground": true,
            "ticks": "",
            "zerolinecolor": "white"
           },
           "yaxis": {
            "backgroundcolor": "#E5ECF6",
            "gridcolor": "white",
            "gridwidth": 2,
            "linecolor": "white",
            "showbackground": true,
            "ticks": "",
            "zerolinecolor": "white"
           },
           "zaxis": {
            "backgroundcolor": "#E5ECF6",
            "gridcolor": "white",
            "gridwidth": 2,
            "linecolor": "white",
            "showbackground": true,
            "ticks": "",
            "zerolinecolor": "white"
           }
          },
          "shapedefaults": {
           "line": {
            "color": "#2a3f5f"
           }
          },
          "ternary": {
           "aaxis": {
            "gridcolor": "white",
            "linecolor": "white",
            "ticks": ""
           },
           "baxis": {
            "gridcolor": "white",
            "linecolor": "white",
            "ticks": ""
           },
           "bgcolor": "#E5ECF6",
           "caxis": {
            "gridcolor": "white",
            "linecolor": "white",
            "ticks": ""
           }
          },
          "title": {
           "x": 0.05
          },
          "xaxis": {
           "automargin": true,
           "gridcolor": "white",
           "linecolor": "white",
           "ticks": "",
           "title": {
            "standoff": 15
           },
           "zerolinecolor": "white",
           "zerolinewidth": 2
          },
          "yaxis": {
           "automargin": true,
           "gridcolor": "white",
           "linecolor": "white",
           "ticks": "",
           "title": {
            "standoff": 15
           },
           "zerolinecolor": "white",
           "zerolinewidth": 2
          }
         }
        },
        "title": {
         "text": "Stock Market"
        },
        "width": 1000,
        "xaxis": {
         "anchor": "y",
         "autorange": true,
         "domain": [
          0,
          1
         ],
         "gridcolor": "lightgray",
         "gridwidth": 1,
         "range": [
          "2023-08-29 02:17:11.8655",
          "2023-10-19 18:49:51.8335"
         ],
         "showgrid": true,
         "tickangle": 42,
         "title": {
          "text": "Date"
         },
         "type": "date"
        },
        "yaxis": {
         "anchor": "x",
         "autorange": true,
         "domain": [
          0,
          1
         ],
         "gridcolor": "lightgray",
         "gridwidth": 1,
         "range": [
          354.8468066545665,
          454.4711647090284
         ],
         "showgrid": true,
         "title": {
          "text": "Stock Price"
         },
         "type": "linear"
        }
       }
      },
      "text/html": [
       "<div>                            <div id=\"7a9d457d-ac1a-4257-bfdc-2efe4b7a8713\" class=\"plotly-graph-div\" style=\"height:800px; width:1000px;\"></div>            <script type=\"text/javascript\">                require([\"plotly\"], function(Plotly) {                    window.PLOTLYENV=window.PLOTLYENV || {};                                    if (document.getElementById(\"7a9d457d-ac1a-4257-bfdc-2efe4b7a8713\")) {                    Plotly.newPlot(                        \"7a9d457d-ac1a-4257-bfdc-2efe4b7a8713\",                        [{\"hovertemplate\":\"\\u003cextra\\u003e\\u003c\\u002fextra\\u003e\",\"legendgroup\":\"\",\"marker\":{\"color\":\"#636efa\",\"symbol\":\"circle\"},\"mode\":\"markers\",\"name\":\"\",\"orientation\":\"v\",\"showlegend\":false,\"xaxis\":\"x\",\"yaxis\":\"y\",\"type\":\"scatter\"},{\"marker\":{\"color\":\"blue\",\"size\":8},\"mode\":\"lines+markers\",\"name\":\"Actual\",\"x\":[\"2023-09-01T00:00:00\",\"2023-09-05T00:00:00\",\"2023-09-06T00:00:00\",\"2023-09-07T00:00:00\",\"2023-09-08T00:00:00\",\"2023-09-11T00:00:00\",\"2023-09-12T00:00:00\",\"2023-09-13T00:00:00\",\"2023-09-14T00:00:00\",\"2023-09-15T00:00:00\",\"2023-09-18T00:00:00\",\"2023-09-19T00:00:00\",\"2023-09-20T00:00:00\",\"2023-09-21T00:00:00\",\"2023-09-22T00:00:00\",\"2023-09-25T00:00:00\",\"2023-09-26T00:00:00\",\"2023-09-27T00:00:00\",\"2023-09-28T00:00:00\",\"2023-09-29T00:00:00\",\"2023-10-02T00:00:00\",\"2023-10-03T00:00:00\",\"2023-10-04T00:00:00\",\"2023-10-05T00:00:00\",\"2023-10-06T00:00:00\",\"2023-10-09T00:00:00\",\"2023-10-10T00:00:00\",\"2023-10-11T00:00:00\",\"2023-10-12T00:00:00\"],\"y\":[439.8800048828125,448.67999267578125,445.760009765625,443.1400146484375,442.79998779296875,445.3599853515625,434.69000244140625,412.239990234375,400.489990234375,396.94000244140625,394.3999938964844,396.20001220703125,386.29998779296875,384.1499938964844,379.80999755859375,384.79998779296875,379.25,377.5899963378906,376.3599853515625,377.6000061035156,380.3299865722656,376.75,376.8999938964844,372.5899963378906,381.510009765625,385.95001220703125,373.32000732421875,365.92999267578125,361.20001220703125],\"type\":\"scatter\"},{\"line\":{\"color\":\"red\",\"width\":2},\"marker\":{\"size\":5},\"mode\":\"lines+markers\",\"name\":\"Predicted\",\"x\":[\"2023-09-01T00:00:00\",\"2023-09-05T00:00:00\",\"2023-09-06T00:00:00\",\"2023-09-07T00:00:00\",\"2023-09-08T00:00:00\",\"2023-09-11T00:00:00\",\"2023-09-12T00:00:00\",\"2023-09-13T00:00:00\",\"2023-09-14T00:00:00\",\"2023-09-15T00:00:00\",\"2023-09-18T00:00:00\",\"2023-09-19T00:00:00\",\"2023-09-20T00:00:00\",\"2023-09-21T00:00:00\",\"2023-09-22T00:00:00\",\"2023-09-25T00:00:00\",\"2023-09-26T00:00:00\",\"2023-09-27T00:00:00\",\"2023-09-28T00:00:00\",\"2023-09-29T00:00:00\",\"2023-10-02T00:00:00\",\"2023-10-03T00:00:00\",\"2023-10-04T00:00:00\",\"2023-10-05T00:00:00\",\"2023-10-06T00:00:00\",\"2023-10-09T00:00:00\",\"2023-10-10T00:00:00\",\"2023-10-11T00:00:00\",\"2023-10-12T00:00:00\",\"2023-10-13T00:00:00\",\"2023-10-14T00:00:00\",\"2023-10-15T00:00:00\",\"2023-10-16T00:00:00\",\"2023-10-17T00:00:00\"],\"y\":[436.72803133692537,438.07179087041993,447.09701578346693,439.1936638985939,441.48078586651525,441.1015847177295,440.98824481688814,438.0554290013915,412.48406463160205,402.31688196909954,394.6212050923658,391.65572530976056,395.7432714670412,386.0811950123952,383.6534994572101,381.5942734555748,381.74149161030846,381.1396352795922,374.63147805192284,378.927900010958,375.8659791491685,378.4043837959263,375.49459847715667,377.36656874404525,367.69293240597364,376.5332211775567,386.04104558537864,374.22906954946995,366.9517896276008,382.67756309789917,375.1365475868509,361.50213573908263,367.94950768730024,360.33424588886714],\"type\":\"scatter\"}],                        {\"template\":{\"data\":{\"histogram2dcontour\":[{\"type\":\"histogram2dcontour\",\"colorbar\":{\"outlinewidth\":0,\"ticks\":\"\"},\"colorscale\":[[0.0,\"#0d0887\"],[0.1111111111111111,\"#46039f\"],[0.2222222222222222,\"#7201a8\"],[0.3333333333333333,\"#9c179e\"],[0.4444444444444444,\"#bd3786\"],[0.5555555555555556,\"#d8576b\"],[0.6666666666666666,\"#ed7953\"],[0.7777777777777778,\"#fb9f3a\"],[0.8888888888888888,\"#fdca26\"],[1.0,\"#f0f921\"]]}],\"choropleth\":[{\"type\":\"choropleth\",\"colorbar\":{\"outlinewidth\":0,\"ticks\":\"\"}}],\"histogram2d\":[{\"type\":\"histogram2d\",\"colorbar\":{\"outlinewidth\":0,\"ticks\":\"\"},\"colorscale\":[[0.0,\"#0d0887\"],[0.1111111111111111,\"#46039f\"],[0.2222222222222222,\"#7201a8\"],[0.3333333333333333,\"#9c179e\"],[0.4444444444444444,\"#bd3786\"],[0.5555555555555556,\"#d8576b\"],[0.6666666666666666,\"#ed7953\"],[0.7777777777777778,\"#fb9f3a\"],[0.8888888888888888,\"#fdca26\"],[1.0,\"#f0f921\"]]}],\"heatmap\":[{\"type\":\"heatmap\",\"colorbar\":{\"outlinewidth\":0,\"ticks\":\"\"},\"colorscale\":[[0.0,\"#0d0887\"],[0.1111111111111111,\"#46039f\"],[0.2222222222222222,\"#7201a8\"],[0.3333333333333333,\"#9c179e\"],[0.4444444444444444,\"#bd3786\"],[0.5555555555555556,\"#d8576b\"],[0.6666666666666666,\"#ed7953\"],[0.7777777777777778,\"#fb9f3a\"],[0.8888888888888888,\"#fdca26\"],[1.0,\"#f0f921\"]]}],\"heatmapgl\":[{\"type\":\"heatmapgl\",\"colorbar\":{\"outlinewidth\":0,\"ticks\":\"\"},\"colorscale\":[[0.0,\"#0d0887\"],[0.1111111111111111,\"#46039f\"],[0.2222222222222222,\"#7201a8\"],[0.3333333333333333,\"#9c179e\"],[0.4444444444444444,\"#bd3786\"],[0.5555555555555556,\"#d8576b\"],[0.6666666666666666,\"#ed7953\"],[0.7777777777777778,\"#fb9f3a\"],[0.8888888888888888,\"#fdca26\"],[1.0,\"#f0f921\"]]}],\"contourcarpet\":[{\"type\":\"contourcarpet\",\"colorbar\":{\"outlinewidth\":0,\"ticks\":\"\"}}],\"contour\":[{\"type\":\"contour\",\"colorbar\":{\"outlinewidth\":0,\"ticks\":\"\"},\"colorscale\":[[0.0,\"#0d0887\"],[0.1111111111111111,\"#46039f\"],[0.2222222222222222,\"#7201a8\"],[0.3333333333333333,\"#9c179e\"],[0.4444444444444444,\"#bd3786\"],[0.5555555555555556,\"#d8576b\"],[0.6666666666666666,\"#ed7953\"],[0.7777777777777778,\"#fb9f3a\"],[0.8888888888888888,\"#fdca26\"],[1.0,\"#f0f921\"]]}],\"surface\":[{\"type\":\"surface\",\"colorbar\":{\"outlinewidth\":0,\"ticks\":\"\"},\"colorscale\":[[0.0,\"#0d0887\"],[0.1111111111111111,\"#46039f\"],[0.2222222222222222,\"#7201a8\"],[0.3333333333333333,\"#9c179e\"],[0.4444444444444444,\"#bd3786\"],[0.5555555555555556,\"#d8576b\"],[0.6666666666666666,\"#ed7953\"],[0.7777777777777778,\"#fb9f3a\"],[0.8888888888888888,\"#fdca26\"],[1.0,\"#f0f921\"]]}],\"mesh3d\":[{\"type\":\"mesh3d\",\"colorbar\":{\"outlinewidth\":0,\"ticks\":\"\"}}],\"scatter\":[{\"fillpattern\":{\"fillmode\":\"overlay\",\"size\":10,\"solidity\":0.2},\"type\":\"scatter\"}],\"parcoords\":[{\"type\":\"parcoords\",\"line\":{\"colorbar\":{\"outlinewidth\":0,\"ticks\":\"\"}}}],\"scatterpolargl\":[{\"type\":\"scatterpolargl\",\"marker\":{\"colorbar\":{\"outlinewidth\":0,\"ticks\":\"\"}}}],\"bar\":[{\"error_x\":{\"color\":\"#2a3f5f\"},\"error_y\":{\"color\":\"#2a3f5f\"},\"marker\":{\"line\":{\"color\":\"#E5ECF6\",\"width\":0.5},\"pattern\":{\"fillmode\":\"overlay\",\"size\":10,\"solidity\":0.2}},\"type\":\"bar\"}],\"scattergeo\":[{\"type\":\"scattergeo\",\"marker\":{\"colorbar\":{\"outlinewidth\":0,\"ticks\":\"\"}}}],\"scatterpolar\":[{\"type\":\"scatterpolar\",\"marker\":{\"colorbar\":{\"outlinewidth\":0,\"ticks\":\"\"}}}],\"histogram\":[{\"marker\":{\"pattern\":{\"fillmode\":\"overlay\",\"size\":10,\"solidity\":0.2}},\"type\":\"histogram\"}],\"scattergl\":[{\"type\":\"scattergl\",\"marker\":{\"colorbar\":{\"outlinewidth\":0,\"ticks\":\"\"}}}],\"scatter3d\":[{\"type\":\"scatter3d\",\"line\":{\"colorbar\":{\"outlinewidth\":0,\"ticks\":\"\"}},\"marker\":{\"colorbar\":{\"outlinewidth\":0,\"ticks\":\"\"}}}],\"scattermapbox\":[{\"type\":\"scattermapbox\",\"marker\":{\"colorbar\":{\"outlinewidth\":0,\"ticks\":\"\"}}}],\"scatterternary\":[{\"type\":\"scatterternary\",\"marker\":{\"colorbar\":{\"outlinewidth\":0,\"ticks\":\"\"}}}],\"scattercarpet\":[{\"type\":\"scattercarpet\",\"marker\":{\"colorbar\":{\"outlinewidth\":0,\"ticks\":\"\"}}}],\"carpet\":[{\"aaxis\":{\"endlinecolor\":\"#2a3f5f\",\"gridcolor\":\"white\",\"linecolor\":\"white\",\"minorgridcolor\":\"white\",\"startlinecolor\":\"#2a3f5f\"},\"baxis\":{\"endlinecolor\":\"#2a3f5f\",\"gridcolor\":\"white\",\"linecolor\":\"white\",\"minorgridcolor\":\"white\",\"startlinecolor\":\"#2a3f5f\"},\"type\":\"carpet\"}],\"table\":[{\"cells\":{\"fill\":{\"color\":\"#EBF0F8\"},\"line\":{\"color\":\"white\"}},\"header\":{\"fill\":{\"color\":\"#C8D4E3\"},\"line\":{\"color\":\"white\"}},\"type\":\"table\"}],\"barpolar\":[{\"marker\":{\"line\":{\"color\":\"#E5ECF6\",\"width\":0.5},\"pattern\":{\"fillmode\":\"overlay\",\"size\":10,\"solidity\":0.2}},\"type\":\"barpolar\"}],\"pie\":[{\"automargin\":true,\"type\":\"pie\"}]},\"layout\":{\"autotypenumbers\":\"strict\",\"colorway\":[\"#636efa\",\"#EF553B\",\"#00cc96\",\"#ab63fa\",\"#FFA15A\",\"#19d3f3\",\"#FF6692\",\"#B6E880\",\"#FF97FF\",\"#FECB52\"],\"font\":{\"color\":\"#2a3f5f\"},\"hovermode\":\"closest\",\"hoverlabel\":{\"align\":\"left\"},\"paper_bgcolor\":\"white\",\"plot_bgcolor\":\"#E5ECF6\",\"polar\":{\"bgcolor\":\"#E5ECF6\",\"angularaxis\":{\"gridcolor\":\"white\",\"linecolor\":\"white\",\"ticks\":\"\"},\"radialaxis\":{\"gridcolor\":\"white\",\"linecolor\":\"white\",\"ticks\":\"\"}},\"ternary\":{\"bgcolor\":\"#E5ECF6\",\"aaxis\":{\"gridcolor\":\"white\",\"linecolor\":\"white\",\"ticks\":\"\"},\"baxis\":{\"gridcolor\":\"white\",\"linecolor\":\"white\",\"ticks\":\"\"},\"caxis\":{\"gridcolor\":\"white\",\"linecolor\":\"white\",\"ticks\":\"\"}},\"coloraxis\":{\"colorbar\":{\"outlinewidth\":0,\"ticks\":\"\"}},\"colorscale\":{\"sequential\":[[0.0,\"#0d0887\"],[0.1111111111111111,\"#46039f\"],[0.2222222222222222,\"#7201a8\"],[0.3333333333333333,\"#9c179e\"],[0.4444444444444444,\"#bd3786\"],[0.5555555555555556,\"#d8576b\"],[0.6666666666666666,\"#ed7953\"],[0.7777777777777778,\"#fb9f3a\"],[0.8888888888888888,\"#fdca26\"],[1.0,\"#f0f921\"]],\"sequentialminus\":[[0.0,\"#0d0887\"],[0.1111111111111111,\"#46039f\"],[0.2222222222222222,\"#7201a8\"],[0.3333333333333333,\"#9c179e\"],[0.4444444444444444,\"#bd3786\"],[0.5555555555555556,\"#d8576b\"],[0.6666666666666666,\"#ed7953\"],[0.7777777777777778,\"#fb9f3a\"],[0.8888888888888888,\"#fdca26\"],[1.0,\"#f0f921\"]],\"diverging\":[[0,\"#8e0152\"],[0.1,\"#c51b7d\"],[0.2,\"#de77ae\"],[0.3,\"#f1b6da\"],[0.4,\"#fde0ef\"],[0.5,\"#f7f7f7\"],[0.6,\"#e6f5d0\"],[0.7,\"#b8e186\"],[0.8,\"#7fbc41\"],[0.9,\"#4d9221\"],[1,\"#276419\"]]},\"xaxis\":{\"gridcolor\":\"white\",\"linecolor\":\"white\",\"ticks\":\"\",\"title\":{\"standoff\":15},\"zerolinecolor\":\"white\",\"automargin\":true,\"zerolinewidth\":2},\"yaxis\":{\"gridcolor\":\"white\",\"linecolor\":\"white\",\"ticks\":\"\",\"title\":{\"standoff\":15},\"zerolinecolor\":\"white\",\"automargin\":true,\"zerolinewidth\":2},\"scene\":{\"xaxis\":{\"backgroundcolor\":\"#E5ECF6\",\"gridcolor\":\"white\",\"linecolor\":\"white\",\"showbackground\":true,\"ticks\":\"\",\"zerolinecolor\":\"white\",\"gridwidth\":2},\"yaxis\":{\"backgroundcolor\":\"#E5ECF6\",\"gridcolor\":\"white\",\"linecolor\":\"white\",\"showbackground\":true,\"ticks\":\"\",\"zerolinecolor\":\"white\",\"gridwidth\":2},\"zaxis\":{\"backgroundcolor\":\"#E5ECF6\",\"gridcolor\":\"white\",\"linecolor\":\"white\",\"showbackground\":true,\"ticks\":\"\",\"zerolinecolor\":\"white\",\"gridwidth\":2}},\"shapedefaults\":{\"line\":{\"color\":\"#2a3f5f\"}},\"annotationdefaults\":{\"arrowcolor\":\"#2a3f5f\",\"arrowhead\":0,\"arrowwidth\":1},\"geo\":{\"bgcolor\":\"white\",\"landcolor\":\"#E5ECF6\",\"subunitcolor\":\"white\",\"showland\":true,\"showlakes\":true,\"lakecolor\":\"white\"},\"title\":{\"x\":0.05},\"mapbox\":{\"style\":\"light\"}}},\"xaxis\":{\"anchor\":\"y\",\"domain\":[0.0,1.0],\"title\":{\"text\":\"Date\"},\"showgrid\":true,\"gridwidth\":1,\"gridcolor\":\"lightgray\",\"tickangle\":42},\"yaxis\":{\"anchor\":\"x\",\"domain\":[0.0,1.0],\"title\":{\"text\":\"Stock Price\"},\"showgrid\":true,\"gridwidth\":1,\"gridcolor\":\"lightgray\"},\"legend\":{\"tracegroupgap\":0,\"x\":1,\"y\":1},\"title\":{\"text\":\"Stock Market\"},\"height\":800,\"width\":1000,\"annotations\":[{\"align\":\"left\",\"font\":{\"size\":12},\"showarrow\":false,\"text\":\"The prediction Accuracy is 94.36%\",\"x\":0.65,\"xref\":\"paper\",\"y\":0.86,\"yref\":\"paper\"}]},                        {\"responsive\": true}                    ).then(function(){\n",
       "                            \n",
       "var gd = document.getElementById('7a9d457d-ac1a-4257-bfdc-2efe4b7a8713');\n",
       "var x = new MutationObserver(function (mutations, observer) {{\n",
       "        var display = window.getComputedStyle(gd).display;\n",
       "        if (!display || display === 'none') {{\n",
       "            console.log([gd, 'removed!']);\n",
       "            Plotly.purge(gd);\n",
       "            observer.disconnect();\n",
       "        }}\n",
       "}});\n",
       "\n",
       "// Listen for the removal of the full notebook cells\n",
       "var notebookContainer = gd.closest('#notebook-container');\n",
       "if (notebookContainer) {{\n",
       "    x.observe(notebookContainer, {childList: true});\n",
       "}}\n",
       "\n",
       "// Listen for the clearing of the current output cell\n",
       "var outputEl = gd.closest('.output');\n",
       "if (outputEl) {{\n",
       "    x.observe(outputEl, {childList: true});\n",
       "}}\n",
       "\n",
       "                        })                };                });            </script>        </div>"
      ]
     },
     "metadata": {},
     "output_type": "display_data"
    }
   ],
   "source": [
    "\n",
    "\n",
    "# Set the figure size\n",
    "fig = px.scatter(title=\"Stock Market\", width=1000, height=800)\n",
    "\n",
    "# Plot the actual data as scatter\n",
    "fig.add_scatter(x=df_target.loc[\"2023-09-01\":f\"{DATE}\"].index, y=df_target.loc[\"2023-09-01\":f\"{DATE}\",\"close\"],\n",
    "                mode='lines+markers', name=\"Actual\", marker=dict(color='blue', size=8))\n",
    "\n",
    "# Plot the predicted data as line plot\n",
    "fig.add_scatter(x=CombinedX.loc[\"2023-09-01\":].index, y=CombinedX.loc[\"2023-09-01\":,\"Predicted\"],\n",
    "                mode='lines+markers', name=\"Predicted\",marker=dict(size=5),line=dict(color='red', width=2))\n",
    "\n",
    "# Add legend and axis labels\n",
    "fig.update_layout(legend=dict(x=1, y=1), xaxis=dict(title=\"Date\"), yaxis=dict(title=\"Stock Price\"))\n",
    "\n",
    "# Add gridlines\n",
    "fig.update_xaxes(showgrid=True, gridwidth=1, gridcolor='lightgray')\n",
    "fig.update_yaxes(showgrid=True, gridwidth=1, gridcolor='lightgray')\n",
    "\n",
    "# Calculate and add the prediction accuracy annotation\n",
    "Acc = r2_score(CombinedX[\"Actual\"], CombinedX[\"Predicted\"])\n",
    "fig.add_annotation(text=f\"The prediction Accuracy is {round(Acc*100,2)}%\", xref=\"paper\", yref=\"paper\",\n",
    "                   x=0.65, y=0.86, font=dict(size=12), showarrow=False, align=\"left\")\n",
    "\n",
    "# Rotate x-axis tick labels\n",
    "fig.update_xaxes(tickangle=42)\n",
    "\n",
    "# Show the plot\n",
    "fig.show()\n"
   ]
  },
  {
   "cell_type": "code",
   "execution_count": 73,
   "id": "c237f845-cfa3-4d54-b687-82b0420dadbd",
   "metadata": {},
   "outputs": [
    {
     "data": {
      "text/html": [
       "<div>\n",
       "<style scoped>\n",
       "    .dataframe tbody tr th:only-of-type {\n",
       "        vertical-align: middle;\n",
       "    }\n",
       "\n",
       "    .dataframe tbody tr th {\n",
       "        vertical-align: top;\n",
       "    }\n",
       "\n",
       "    .dataframe thead th {\n",
       "        text-align: right;\n",
       "    }\n",
       "</style>\n",
       "<table border=\"1\" class=\"dataframe\">\n",
       "  <thead>\n",
       "    <tr style=\"text-align: right;\">\n",
       "      <th></th>\n",
       "      <th>Predicted</th>\n",
       "    </tr>\n",
       "  </thead>\n",
       "  <tbody>\n",
       "    <tr>\n",
       "      <th>2023-10-12</th>\n",
       "      <td>366.951790</td>\n",
       "    </tr>\n",
       "    <tr>\n",
       "      <th>2023-10-13</th>\n",
       "      <td>382.677563</td>\n",
       "    </tr>\n",
       "    <tr>\n",
       "      <th>2023-10-14</th>\n",
       "      <td>375.136548</td>\n",
       "    </tr>\n",
       "    <tr>\n",
       "      <th>2023-10-15</th>\n",
       "      <td>361.502136</td>\n",
       "    </tr>\n",
       "    <tr>\n",
       "      <th>2023-10-16</th>\n",
       "      <td>367.949508</td>\n",
       "    </tr>\n",
       "    <tr>\n",
       "      <th>2023-10-17</th>\n",
       "      <td>360.334246</td>\n",
       "    </tr>\n",
       "  </tbody>\n",
       "</table>\n",
       "</div>"
      ],
      "text/plain": [
       "             Predicted\n",
       "2023-10-12  366.951790\n",
       "2023-10-13  382.677563\n",
       "2023-10-14  375.136548\n",
       "2023-10-15  361.502136\n",
       "2023-10-16  367.949508\n",
       "2023-10-17  360.334246"
      ]
     },
     "execution_count": 73,
     "metadata": {},
     "output_type": "execute_result"
    }
   ],
   "source": [
    "CombinedX.iloc[-6:,[1]]"
   ]
  },
  {
   "cell_type": "markdown",
   "id": "8f002790-b278-4d08-89c2-544021cd8e1d",
   "metadata": {},
   "source": [
    "HAC :Hierachical Agglomerative Clustering The Distance between Shift and the origanl data "
   ]
  },
  {
   "cell_type": "code",
   "execution_count": 25,
   "id": "4a7bc812-ccf3-47b6-ba7d-b43af4ca78bc",
   "metadata": {},
   "outputs": [
    {
     "data": {
      "text/plain": [
       "<seaborn.matrix.ClusterGrid at 0x2a51c4f8f10>"
      ]
     },
     "execution_count": 25,
     "metadata": {},
     "output_type": "execute_result"
    },
    {
     "data": {
      "image/png": "[encoded data removed]",
      "text/plain": [
       "<Figure size 800x800 with 4 Axes>"
      ]
     },
     "metadata": {},
     "output_type": "display_data"
    }
   ],
   "source": [
    "sns.clustermap(df.corr(),annot=True,standard_scale=1)"
   ]
  },
  {
   "cell_type": "code",
   "execution_count": null,
   "id": "6e647a4d-696c-4b1e-b232-c7cb37482716",
   "metadata": {},
   "outputs": [],
   "source": []
  },
  {
   "cell_type": "code",
   "execution_count": 27,
   "id": "d0c2b88a-5255-46e2-ad77-171cb8a97b8e",
   "metadata": {},
   "outputs": [
    {
     "data": {
      "text/plain": [
       "'The running time is 0:00:11'"
      ]
     },
     "execution_count": 27,
     "metadata": {},
     "output_type": "execute_result"
    }
   ],
   "source": [
    "End=datetime.today().strftime(\"%H:%M:%S\")\n",
    "End=datetime.strptime(End,\"%H:%M:%S\")\n",
    "running_time=f\"The running time is {End-Start}\"\n",
    "running_time"
   ]
  },
  {
   "cell_type": "code",
   "execution_count": null,
   "id": "41abe485-a729-4139-8491-475e56f9f5f4",
   "metadata": {},
   "outputs": [],
   "source": []
  },
  {
   "cell_type": "code",
   "execution_count": null,
   "id": "3c288d7e-c807-4c3a-9504-120dfcc2d096",
   "metadata": {},
   "outputs": [],
   "source": []
  },
  {
   "cell_type": "code",
   "execution_count": null,
   "id": "37d8109a-351a-4f41-a1cb-48de4bc1df9b",
   "metadata": {},
   "outputs": [],
   "source": []
  },
  {
   "cell_type": "code",
   "execution_count": null,
   "id": "10f1950b-03d6-4091-bc5c-dfba07c318bf",
   "metadata": {},
   "outputs": [],
   "source": []
  },
  {
   "cell_type": "code",
   "execution_count": null,
   "id": "f9390d18-aa3b-4be1-a203-cb10ffe09b2a",
   "metadata": {},
   "outputs": [],
   "source": []
  },
  {
   "cell_type": "code",
   "execution_count": null,
   "id": "154812fc-5df5-4e52-bfb4-4d2909329e48",
   "metadata": {},
   "outputs": [],
   "source": []
  },
  {
   "cell_type": "code",
   "execution_count": null,
   "id": "5e1d573d-f455-4f54-a7c2-0199995815a2",
   "metadata": {},
   "outputs": [],
   "source": []
  },
  {
   "cell_type": "code",
   "execution_count": null,
   "id": "78991dc4-11c3-47a4-a435-a6100e78feb8",
   "metadata": {},
   "outputs": [],
   "source": []
  },
  {
   "cell_type": "code",
   "execution_count": null,
   "id": "be2d2b3e-be92-493d-803e-51ba2c8de5e3",
   "metadata": {},
   "outputs": [],
   "source": []
  },
  {
   "cell_type": "code",
   "execution_count": null,
   "id": "78b0f8c5-f3f7-4a82-bc3f-a4d5095c0883",
   "metadata": {},
   "outputs": [],
   "source": []
  }
 ],
 "metadata": {
  "kernelspec": {
   "display_name": "Python 3 (ipykernel)",
   "language": "python",
   "name": "python3"
  },
  "language_info": {
   "codemirror_mode": {
    "name": "ipython",
    "version": 3
   },
   "file_extension": ".py",
   "mimetype": "text/x-python",
   "name": "python",
   "nbconvert_exporter": "python",
   "pygments_lexer": "ipython3",
   "version": "3.11.3"
  }
 },
 "nbformat": 4,
 "nbformat_minor": 5
}
